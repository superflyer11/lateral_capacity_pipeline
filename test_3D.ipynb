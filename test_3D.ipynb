{
 "cells": [
  {
   "cell_type": "markdown",
   "id": "197c7cba",
   "metadata": {},
   "source": [
    "# 1. Set Up"
   ]
  },
  {
   "cell_type": "code",
   "execution_count": 1,
   "id": "45949f4f",
   "metadata": {
    "ExecuteTime": {
     "end_time": "2024-08-21T08:07:02.713194Z",
     "start_time": "2024-08-21T08:07:02.181100Z"
    }
   },
   "outputs": [
    {
     "name": "stdout",
     "output_type": "stream",
     "text": [
      "-- \u001b[0;35mlinux-ubuntu20.04-x86_64\u001b[0m / \u001b[0;32mgcc@9.4.0\u001b[0m -------------------------\n",
      "tfel\u001b[0;36m@4.0.0\u001b[0m  /mofem_install/spack/opt/spack/linux-ubuntu20.04-x86_64/gcc-9.4.0/tfel-4.0.0-mvfpqw7u4c23su7hj7g4leuwmykrjmcx\n",
      "tfel\u001b[0;36m@4.0.0\u001b[0m  /mofem_install/spack/opt/spack/linux-ubuntu20.04-x86_64/gcc-9.4.0/tfel-4.0.0-jjcwdu6cbil5dzqzjhjekn3jdzo3e6gc\n",
      "\u001b[1;34m==>\u001b[0m 2 installed packages\n"
     ]
    }
   ],
   "source": [
    "!spack find -p tfel"
   ]
  },
  {
   "cell_type": "code",
   "execution_count": 2,
   "id": "f68469aa",
   "metadata": {
    "ExecuteTime": {
     "end_time": "2024-08-21T08:07:02.717555Z",
     "start_time": "2024-08-21T08:07:02.715117Z"
    }
   },
   "outputs": [],
   "source": [
    "# %env LD_LIBRARY_PATH=/mofem_install/spack/opt/spack/linux-ubuntu20.04-x86_64/gcc-9.4.0/tfel-4.0.0-mvfpqw7u4c23su7hj7g4leuwmykrjmcx/lib"
   ]
  },
  {
   "cell_type": "code",
   "execution_count": 3,
   "id": "50082034",
   "metadata": {
    "ExecuteTime": {
     "end_time": "2024-08-21T08:07:03.253985Z",
     "start_time": "2024-08-21T08:07:02.719322Z"
    }
   },
   "outputs": [
    {
     "name": "stdout",
     "output_type": "stream",
     "text": [
      "/mofem_install/spack/opt/spack/linux-ubuntu20.04-x86_64/gcc-9.4.0/tfel-4.0.0-mvfpqw7u4c23su7hj7g4leuwmykrjmcx/lib\n",
      "/mofem_install/spack/opt/spack/linux-ubuntu20.04-x86_64/gcc-9.4.0/tfel-4.0.0-jjcwdu6cbil5dzqzjhjekn3jdzo3e6gc/lib\n"
     ]
    }
   ],
   "source": [
    "!echo \"$(spack find -p tfel | awk '/\\/mofem_install\\// {print $NF \"/lib\"}')\""
   ]
  },
  {
   "cell_type": "code",
   "execution_count": 4,
   "id": "07ca4fe2",
   "metadata": {
    "ExecuteTime": {
     "end_time": "2024-08-21T08:07:03.385756Z",
     "start_time": "2024-08-21T08:07:03.255924Z"
    }
   },
   "outputs": [],
   "source": [
    "import math\n",
    "import os\n",
    "import re\n",
    "import sys\n",
    "import time\n",
    "import json\n",
    "from pathlib import Path\n",
    "import subprocess\n",
    "import zipfile\n",
    "import pydantic\n",
    "import numpy as np\n",
    "import pandas as pd\n",
    "import matplotlib.pyplot as plt\n",
    "import pyvista as pv\n",
    "import gmsh\n",
    "\n",
    "sys.path.append('/mofem_install/jupyter/thomas/mfront_example_test/src')\n",
    "\n",
    "import setup\n",
    "import core\n",
    "import custom_models as cm\n",
    "import utils as ut\n",
    "import plotting\n",
    "import calculations as calc\n",
    "import postprocess\n",
    "    \n",
    "import matplotlib\n",
    "matplotlib.rc('figure', figsize=(6, 6))"
   ]
  },
  {
   "cell_type": "markdown",
   "id": "ec3cb6f6",
   "metadata": {},
   "source": [
    "# 2. Simulation Parameters"
   ]
  },
  {
   "cell_type": "code",
   "execution_count": 5,
   "id": "d6a65126",
   "metadata": {
    "ExecuteTime": {
     "end_time": "2024-08-21T08:07:03.387942Z",
     "start_time": "2024-08-21T08:07:03.387929Z"
    }
   },
   "outputs": [],
   "source": [
    "#in MPa\n",
    "def initialize_parameters(soil_model: cm.PropertyTypeEnum = cm.PropertyTypeEnum.le,**kwargs) -> cm.AttrDict:\n",
    "    params = cm.AttrDict()\n",
    "    setattr(params, \"soil_model\", soil_model)\n",
    "    for key,value in kwargs.items():\n",
    "        setattr(params, key, value)\n",
    "    params.tester = cm.TestAttr(\n",
    "        preferred_model= params.soil_model,\n",
    "        props = {\n",
    "            cm.PropertyTypeEnum.le: cm.ElasticProperties(youngs_modulus=500, poisson_ratio=0.3),\n",
    "            cm.PropertyTypeEnum.vM_Default_mfront: cm.VonMisesProperties(youngs_modulus=500,poisson_ratio=0.3, HardeningSlope = 2.5, YieldStress = 0.25),\n",
    "            cm.PropertyTypeEnum.vM_Implicit_mfront: cm.VonMisesProperties(youngs_modulus=500, poisson_ratio=0.3, HardeningSlope = 2.5, YieldStress = 0.25),\n",
    "            cm.PropertyTypeEnum.DP: cm.DruckerPragerProperties(youngs_modulus=500, poisson_ratio=0.3, phi=np.radians(10), c=0.125, v=np.radians(0)),\n",
    "            cm.PropertyTypeEnum.DP_HYPER: cm.DPHYPERProps(youngs_modulus=500, poisson_ratio=0.3, phi=np.radians(10), c=0.125, v=np.radians(0), proximity = 1e-2),\n",
    "            cm.PropertyTypeEnum.MCC: cm.CamClayProperties(),\n",
    "            }, \n",
    "        \n",
    "    )\n",
    " \n",
    "    def custom_generate_physical_groups_mfront(params) -> list[cm.PhysicalGroup]:\n",
    "        physical_group_list = [\n",
    "            cm.PhysicalGroup(\n",
    "                meshnet_id=6,\n",
    "                name=\"MFRONT_MAT_1\",\n",
    "                preferred_model=params.tester.preferred_model,\n",
    "                props=params.tester.props,\n",
    "                group_type=cm.PhysicalGroupType.MATERIAL,\n",
    "                ),\n",
    "            cm.PhysicalGroup(\n",
    "                meshnet_id=7,\n",
    "                name=\"MFRONT_MAT_2\",\n",
    "                preferred_model=params.tester.preferred_model,\n",
    "                props=params.tester.props,\n",
    "                group_type=cm.PhysicalGroupType.MATERIAL,\n",
    "                ),\n",
    "        ]\n",
    "        return physical_group_list\n",
    "    \n",
    "    def custom_generate_physical_groups_mofem(params) -> list[cm.PhysicalGroup]:\n",
    "        physical_group_list = []\n",
    "        return physical_group_list\n",
    "    \n",
    "    if getattr(params, \"custom_mesh_filepath\", False):\n",
    "        try:\n",
    "            if params.use_mfront:\n",
    "                params.custom_generate_physical_groups = custom_generate_physical_groups_mfront\n",
    "            else:\n",
    "                params.custom_generate_physical_groups = custom_generate_physical_groups_mofem\n",
    "        except NameError as e:\n",
    "            raise NameError(\"Must provided the custom callback 'custom_generate_physical_groups' to inject attributes to the main commmand.\")\n",
    "    \n",
    "    \n",
    "    params.dim = 3\n",
    "\n",
    "    \n",
    "    \n",
    "    params.wk_dir = Path(f\"/mofem_install/jupyter/thomas/mfront_example_test\")\n",
    "    params.read_med_exe = \"/mofem_install/jupyter/thomas/um_view/bin/read_med\"\n",
    "    params.h5m_to_vtk_converter = \"/mofem_install/jupyter/thomas/um_view/bin/convert.py\"\n",
    "    params.partition_exe = \"/mofem_install/jupyter/thomas/um_view/bin/mofem_part\"\n",
    "    if params.use_mfront:\n",
    "        params.exe = f\"/mofem_install/jupyter/thomas/um_view/tutorials/adv-1/contact_3d\"\n",
    "    else:\n",
    "        params.exe = f\"/mofem_install/jupyter/thomas/um_view_release/adolc_plasticity/adolc_plasticity_3d\"\n",
    "    params.paraview_path = \"/mofem_install/jupyter/thomas/ParaView-5.13.1-MPI-Linux-Python3.10-x86_64/bin/pvpython\"\n",
    "    params.ffmpeg_path = '/mofem_install/jupyter/thomas/ffmpeg-7.0.2-amd64-static/ffmpeg'\n",
    "    params.preset_dir = '/mofem_install/jupyter/thomas/mfront_example_test/src/presets'\n",
    "    params.options_file = \"/mofem_install/jupyter/thomas/mfront_example_test/param_file.petsc\"\n",
    "    \n",
    "    return params"
   ]
  },
  {
   "cell_type": "code",
   "execution_count": 6,
   "id": "285e5e9e",
   "metadata": {},
   "outputs": [
    {
     "name": "stdout",
     "output_type": "stream",
     "text": [
      "╭───────────────────────╮\n",
      "│  PLOTTING ALL POINTS  │\n",
      "╰───────────────────────╯\n",
      " |██████████████████████████████████████████████████| 100.0% (3 of 3)\n",
      "Done, taken Wall Time: 10.71 seconds, CPU Time: 30.66 seconds\n"
     ]
    },
    {
     "data": {
      "text/plain": [
       "<Figure size 600x600 with 0 Axes>"
      ]
     },
     "metadata": {},
     "output_type": "display_data"
    }
   ],
   "source": [
    "params = initialize_parameters(\n",
    "    nproc = 32, # number of processors/cores used\n",
    "    order = 1, #order of approximation functions\n",
    "    case_name = \"test_3D_1000IUE10.05\",\n",
    "    base = \"hex\",\n",
    "    custom_mesh_filepath=\"/mofem_install/jupyter/thomas/mfront_example_test/user_data/mesh/test/vM_1000IUC10.15_su.cub\", \n",
    "    # soil_model=cm.PropertyTypeEnum.vM_Default_mfront,\n",
    "    # soil_model=cm.PropertyTypeEnum.vM_Implicit_mfront,\n",
    "    # soil_model=cm.PropertyTypeEnum.vM_adolc,\n",
    "    soil_model=cm.PropertyTypeEnum.Hm_adolc,\n",
    "    use_mfront = False,\n",
    "    final_time = 1, # [s]\n",
    "    time_step = 1 / 40, # [s]\n",
    "    \n",
    "    options_file = \"/mofem_install/jupyter/thomas/mfront_example_test/param_file.petsc\",\n",
    "    \n",
    "    save_gauss = 0,\n",
    "    convert_gauss = 0,\n",
    "    \n",
    "    FEA_completed=True,\n",
    "    days_since_epoch=152,\n",
    "    sim_otd=30,\n",
    "    \n",
    "    # the prescribed force/dosplacement is always applied to the max_z surface\n",
    "    # params.prescribed_force = cm.ForceBoundaryCondition(f_x=0,f_y=0,f_z=60),\n",
    "    # prescribed_disp = cm.EdgeBoundaryCondition(disp_uz=1),\n",
    "    prescribed_BC_name = \"FIX_Z_0\",\n",
    "    \n",
    "    # time_history = cm.TimeHistory(history = {\n",
    "    #     0: 0, \n",
    "    #     1/4: 0.001, \n",
    "    #     2/4: 0, \n",
    "    #     3/4: -0.001,\n",
    "    #     1: 0.001,\n",
    "    #     }\n",
    "    # ),\n",
    "    # force_time_history = cm.TimeHistory(history = {\n",
    "    #     0: 0, \n",
    "    #     1/4: 5, \n",
    "    #     2/4: 5, \n",
    "    #     1: 10,\n",
    "    #     }\n",
    "    # ),\n",
    "    displacement_time_history = cm.TimeHistory(history = {\n",
    "        0: 0, \n",
    "        1/40: 4.83316293E-06, \n",
    "        2/40: 4.83316293E-06, \n",
    "        1: 0.02,\n",
    "        }\n",
    "    ),\n",
    "    secondary_force_time_history = cm.TimeHistory(history = {\n",
    "        0: 0, \n",
    "        1/40: 0.156, \n",
    "        1: 0.156,\n",
    "        }\n",
    "    ),\n",
    "    mesh_size = int(1),\n",
    "    \n",
    "    points_of_interest = [\n",
    "        cm.Point(x=0.5,y=0.5,z=0.5),\n",
    "        cm.Point(x=-0.5,y=-0.5,z=-0.5),\n",
    "        cm.Point(x=-0.5,y=-0.5,z=0.5),\n",
    "    ],\n",
    "    line_of_interest = cm.Line(pt1=cm.Point(x=0.5,y=0.5,z=0.5), pt2=cm.Point(x=0.5,y=0.5,z=-0.5),),\n",
    ") # 2. Simulation Parameters\n",
    "params = setup.setup(params) # 3. Log paths and meta\n",
    "if params.FEA_completed:\n",
    "    # core.generate_mesh(params) # 4. Generate the mesh\n",
    "    # core.mofem_compute(params) # 5. Running the analysis and export to .vtk file format\n",
    "    # core.export_to_vtk(params)\n",
    "    # postprocess.zip_vtks(params)\n",
    "    # postprocess.extract_log(params)\n",
    "    # postprocess.extract(params)\n",
    "    # postprocess.calculate(params)\n",
    "    postprocess.plot(params)\n",
    "    pass\n",
    "else:\n",
    "    core.generate_mesh(params) # 4. Generate the mesh\n",
    "    core.mofem_compute(params) # 5. Running the analysis and export to .vtk file format\n",
    "    core.export_to_vtk(params)\n",
    "    postprocess.zip_vtks(params)\n",
    "    postprocess.extract_log(params)\n",
    "    postprocess.extract(params)\n",
    "    postprocess.calculate(params)\n",
    "    postprocess.plot(params)\n",
    "    "
   ]
  }
 ],
 "metadata": {
  "jupytext": {
   "cell_metadata_filter": "-all",
   "formats": "ipynb,md",
   "main_language": "python",
   "notebook_metadata_filter": "-all"
  },
  "kernelspec": {
   "display_name": "Python 3",
   "language": "python",
   "name": "python3"
  },
  "language_info": {
   "codemirror_mode": {
    "name": "ipython",
    "version": 3
   },
   "file_extension": ".py",
   "mimetype": "text/x-python",
   "name": "python",
   "nbconvert_exporter": "python",
   "pygments_lexer": "ipython3",
   "version": "3.11.6"
  }
 },
 "nbformat": 4,
 "nbformat_minor": 5
}
